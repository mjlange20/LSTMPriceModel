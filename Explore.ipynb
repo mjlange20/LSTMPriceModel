{
 "cells": [
  {
   "cell_type": "code",
   "execution_count": 2,
   "id": "75f48a15-04f7-4b93-b7d9-2ce60e633ea6",
   "metadata": {},
   "outputs": [],
   "source": [
    "# imports\n",
    "import pandas as pd"
   ]
  },
  {
   "cell_type": "code",
   "execution_count": 5,
   "id": "bc47cd68-a6e1-4ca5-bae0-30c42684a453",
   "metadata": {},
   "outputs": [
    {
     "data": {
      "text/html": [
       "<div>\n",
       "<style scoped>\n",
       "    .dataframe tbody tr th:only-of-type {\n",
       "        vertical-align: middle;\n",
       "    }\n",
       "\n",
       "    .dataframe tbody tr th {\n",
       "        vertical-align: top;\n",
       "    }\n",
       "\n",
       "    .dataframe thead th {\n",
       "        text-align: right;\n",
       "    }\n",
       "</style>\n",
       "<table border=\"1\" class=\"dataframe\">\n",
       "  <thead>\n",
       "    <tr style=\"text-align: right;\">\n",
       "      <th></th>\n",
       "      <th>Unnamed: 0</th>\n",
       "      <th>time</th>\n",
       "      <th>close</th>\n",
       "    </tr>\n",
       "  </thead>\n",
       "  <tbody>\n",
       "    <tr>\n",
       "      <th>0</th>\n",
       "      <td>0</td>\n",
       "      <td>2024-06-11 02:00:00</td>\n",
       "      <td>1.061500</td>\n",
       "    </tr>\n",
       "    <tr>\n",
       "      <th>1</th>\n",
       "      <td>1</td>\n",
       "      <td>2024-06-11 02:00:05</td>\n",
       "      <td>1.061620</td>\n",
       "    </tr>\n",
       "    <tr>\n",
       "      <th>2</th>\n",
       "      <td>2</td>\n",
       "      <td>2024-06-11 02:00:10</td>\n",
       "      <td>1.061540</td>\n",
       "    </tr>\n",
       "    <tr>\n",
       "      <th>3</th>\n",
       "      <td>3</td>\n",
       "      <td>2024-06-11 02:00:15</td>\n",
       "      <td>1.061595</td>\n",
       "    </tr>\n",
       "    <tr>\n",
       "      <th>4</th>\n",
       "      <td>4</td>\n",
       "      <td>2024-06-11 02:00:20</td>\n",
       "      <td>1.061610</td>\n",
       "    </tr>\n",
       "    <tr>\n",
       "      <th>...</th>\n",
       "      <td>...</td>\n",
       "      <td>...</td>\n",
       "      <td>...</td>\n",
       "    </tr>\n",
       "    <tr>\n",
       "      <th>423254</th>\n",
       "      <td>423254</td>\n",
       "      <td>2024-07-05 13:51:10</td>\n",
       "      <td>1.083435</td>\n",
       "    </tr>\n",
       "    <tr>\n",
       "      <th>423255</th>\n",
       "      <td>423255</td>\n",
       "      <td>2024-07-05 13:51:15</td>\n",
       "      <td>1.083390</td>\n",
       "    </tr>\n",
       "    <tr>\n",
       "      <th>423256</th>\n",
       "      <td>423256</td>\n",
       "      <td>2024-07-05 13:51:20</td>\n",
       "      <td>1.083340</td>\n",
       "    </tr>\n",
       "    <tr>\n",
       "      <th>423257</th>\n",
       "      <td>423257</td>\n",
       "      <td>2024-07-05 13:51:25</td>\n",
       "      <td>1.083410</td>\n",
       "    </tr>\n",
       "    <tr>\n",
       "      <th>423258</th>\n",
       "      <td>423258</td>\n",
       "      <td>2024-07-05 13:51:30</td>\n",
       "      <td>1.083450</td>\n",
       "    </tr>\n",
       "  </tbody>\n",
       "</table>\n",
       "<p>423259 rows × 3 columns</p>\n",
       "</div>"
      ],
      "text/plain": [
       "        Unnamed: 0                 time     close\n",
       "0                0  2024-06-11 02:00:00  1.061500\n",
       "1                1  2024-06-11 02:00:05  1.061620\n",
       "2                2  2024-06-11 02:00:10  1.061540\n",
       "3                3  2024-06-11 02:00:15  1.061595\n",
       "4                4  2024-06-11 02:00:20  1.061610\n",
       "...            ...                  ...       ...\n",
       "423254      423254  2024-07-05 13:51:10  1.083435\n",
       "423255      423255  2024-07-05 13:51:15  1.083390\n",
       "423256      423256  2024-07-05 13:51:20  1.083340\n",
       "423257      423257  2024-07-05 13:51:25  1.083410\n",
       "423258      423258  2024-07-05 13:51:30  1.083450\n",
       "\n",
       "[423259 rows x 3 columns]"
      ]
     },
     "execution_count": 5,
     "metadata": {},
     "output_type": "execute_result"
    }
   ],
   "source": [
    "# load up dataframe\n",
    "df = pd.read_csv('./price data/eurusd-otc_5sec_2024-06-11_2024-07-05.csv')\n",
    "df"
   ]
  },
  {
   "cell_type": "code",
   "execution_count": null,
   "id": "c42def3a-a2e8-43dd-9615-67d7ecfd7c85",
   "metadata": {},
   "outputs": [],
   "source": [
    "# classify each data item, if it was greater or less than the previous one"
   ]
  }
 ],
 "metadata": {
  "kernelspec": {
   "display_name": "Python 3 (ipykernel)",
   "language": "python",
   "name": "python3"
  },
  "language_info": {
   "codemirror_mode": {
    "name": "ipython",
    "version": 3
   },
   "file_extension": ".py",
   "mimetype": "text/x-python",
   "name": "python",
   "nbconvert_exporter": "python",
   "pygments_lexer": "ipython3",
   "version": "3.12.7"
  }
 },
 "nbformat": 4,
 "nbformat_minor": 5
}
