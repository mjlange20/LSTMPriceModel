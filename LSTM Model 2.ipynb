{
 "cells": [
  {
   "cell_type": "code",
   "execution_count": 16,
   "id": "a3a9c52d-6f6f-4438-8f8c-73ba518d0c3b",
   "metadata": {},
   "outputs": [],
   "source": [
    "import numpy as np\n",
    "import matplotlib.pyplot as plt\n",
    "import pandas as pd\n",
    "import tensorflow as tf\n",
    "from tensorflow.keras.models import Sequential\n",
    "from tensorflow.keras.layers import Dense\n",
    "from tensorflow.keras.layers import LSTM\n",
    "from sklearn.preprocessing import MinMaxScaler\n",
    "from sklearn.metrics import mean_squared_error"
   ]
  },
  {
   "cell_type": "code",
   "execution_count": 17,
   "id": "1b50f6a2-ec81-40c4-aebf-1e6390a0aa4c",
   "metadata": {},
   "outputs": [],
   "source": [
    "# fix random seed for reproducibility\n",
    "tf.random.set_seed(7)"
   ]
  },
  {
   "cell_type": "code",
   "execution_count": 19,
   "id": "e9abdf06-98ff-4b71-9a2c-b46d0decea9f",
   "metadata": {},
   "outputs": [],
   "source": [
    "# load the dataset\n",
    "dataframe = pd.read_csv('airline-passengers.csv', usecols=[1], engine='python')\n",
    "dataset = dataframe.values\n",
    "dataset = dataset.astype('float32')"
   ]
  },
  {
   "cell_type": "code",
   "execution_count": 38,
   "id": "66a08ec3-9f61-471b-a467-73816023fed8",
   "metadata": {},
   "outputs": [
    {
     "data": {
      "text/html": [
       "<div>\n",
       "<style scoped>\n",
       "    .dataframe tbody tr th:only-of-type {\n",
       "        vertical-align: middle;\n",
       "    }\n",
       "\n",
       "    .dataframe tbody tr th {\n",
       "        vertical-align: top;\n",
       "    }\n",
       "\n",
       "    .dataframe thead th {\n",
       "        text-align: right;\n",
       "    }\n",
       "</style>\n",
       "<table border=\"1\" class=\"dataframe\">\n",
       "  <thead>\n",
       "    <tr style=\"text-align: right;\">\n",
       "      <th></th>\n",
       "      <th>Passengers</th>\n",
       "    </tr>\n",
       "  </thead>\n",
       "  <tbody>\n",
       "    <tr>\n",
       "      <th>0</th>\n",
       "      <td>112</td>\n",
       "    </tr>\n",
       "    <tr>\n",
       "      <th>1</th>\n",
       "      <td>118</td>\n",
       "    </tr>\n",
       "    <tr>\n",
       "      <th>2</th>\n",
       "      <td>132</td>\n",
       "    </tr>\n",
       "    <tr>\n",
       "      <th>3</th>\n",
       "      <td>129</td>\n",
       "    </tr>\n",
       "    <tr>\n",
       "      <th>4</th>\n",
       "      <td>121</td>\n",
       "    </tr>\n",
       "    <tr>\n",
       "      <th>...</th>\n",
       "      <td>...</td>\n",
       "    </tr>\n",
       "    <tr>\n",
       "      <th>139</th>\n",
       "      <td>606</td>\n",
       "    </tr>\n",
       "    <tr>\n",
       "      <th>140</th>\n",
       "      <td>508</td>\n",
       "    </tr>\n",
       "    <tr>\n",
       "      <th>141</th>\n",
       "      <td>461</td>\n",
       "    </tr>\n",
       "    <tr>\n",
       "      <th>142</th>\n",
       "      <td>390</td>\n",
       "    </tr>\n",
       "    <tr>\n",
       "      <th>143</th>\n",
       "      <td>432</td>\n",
       "    </tr>\n",
       "  </tbody>\n",
       "</table>\n",
       "<p>144 rows × 1 columns</p>\n",
       "</div>"
      ],
      "text/plain": [
       "     Passengers\n",
       "0           112\n",
       "1           118\n",
       "2           132\n",
       "3           129\n",
       "4           121\n",
       "..          ...\n",
       "139         606\n",
       "140         508\n",
       "141         461\n",
       "142         390\n",
       "143         432\n",
       "\n",
       "[144 rows x 1 columns]"
      ]
     },
     "execution_count": 38,
     "metadata": {},
     "output_type": "execute_result"
    }
   ],
   "source": [
    "dataframe"
   ]
  },
  {
   "cell_type": "code",
   "execution_count": 24,
   "id": "01a74d3f-5042-419a-bc0f-12bfd3c441d6",
   "metadata": {},
   "outputs": [],
   "source": [
    "# normalize the dataset\n",
    "scaler = MinMaxScaler(feature_range=(0, 1))\n",
    "dataset = scaler.fit_transform(dataset)"
   ]
  },
  {
   "cell_type": "code",
   "execution_count": 25,
   "id": "5a5f33bc-beb0-452c-813a-602412aff4f1",
   "metadata": {},
   "outputs": [
    {
     "name": "stdout",
     "output_type": "stream",
     "text": [
      "96 48\n"
     ]
    }
   ],
   "source": [
    "# split into train and test sets\n",
    "train_size = int(len(dataset) * 0.67)\n",
    "test_size = len(dataset) - train_size\n",
    "train, test = dataset[0:train_size,:], dataset[train_size:len(dataset),:]\n",
    "print(len(train), len(test))"
   ]
  },
  {
   "cell_type": "code",
   "execution_count": 26,
   "id": "334717ee-b299-483b-813c-1b3360e24c24",
   "metadata": {},
   "outputs": [],
   "source": [
    "# convert an array of values into a dataset matrix\n",
    "def create_dataset(dataset, look_back=1):\n",
    "\tdataX, dataY = [], []\n",
    "\tfor i in range(len(dataset)-look_back-1):\n",
    "\t\ta = dataset[i:(i+look_back), 0]\n",
    "\t\tdataX.append(a)\n",
    "\t\tdataY.append(dataset[i + look_back, 0])\n",
    "\treturn np.array(dataX), np.array(dataY)"
   ]
  },
  {
   "cell_type": "code",
   "execution_count": 27,
   "id": "356da007-0391-4902-a162-27b2fae817d6",
   "metadata": {},
   "outputs": [],
   "source": [
    "# reshape into X=t and Y=t+1\n",
    "look_back = 1\n",
    "trainX, trainY = create_dataset(train, look_back)\n",
    "testX, testY = create_dataset(test, look_back)"
   ]
  },
  {
   "cell_type": "code",
   "execution_count": 28,
   "id": "6cc0ac4c-761f-4ae4-94d7-64efd24f63c1",
   "metadata": {},
   "outputs": [],
   "source": [
    "# reshape input to be [samples, time steps, features]\n",
    "trainX = np.reshape(trainX, (trainX.shape[0], 1, trainX.shape[1]))\n",
    "testX = np.reshape(testX, (testX.shape[0], 1, testX.shape[1]))"
   ]
  },
  {
   "cell_type": "code",
   "execution_count": 29,
   "id": "6f6a1c08-df27-4e13-b1d4-1c71c420016e",
   "metadata": {},
   "outputs": [
    {
     "name": "stdout",
     "output_type": "stream",
     "text": [
      "Epoch 1/100\n"
     ]
    },
    {
     "name": "stderr",
     "output_type": "stream",
     "text": [
      "/home/mjlange20/anaconda3/envs/binary/lib/python3.12/site-packages/keras/src/layers/rnn/rnn.py:204: UserWarning: Do not pass an `input_shape`/`input_dim` argument to a layer. When using Sequential models, prefer using an `Input(shape)` object as the first layer in the model instead.\n",
      "  super().__init__(**kwargs)\n"
     ]
    },
    {
     "name": "stdout",
     "output_type": "stream",
     "text": [
      "94/94 - 1s - 10ms/step - loss: 0.0591\n",
      "Epoch 2/100\n",
      "94/94 - 0s - 1ms/step - loss: 0.0298\n",
      "Epoch 3/100\n",
      "94/94 - 0s - 870us/step - loss: 0.0217\n",
      "Epoch 4/100\n",
      "94/94 - 0s - 829us/step - loss: 0.0195\n",
      "Epoch 5/100\n",
      "94/94 - 0s - 866us/step - loss: 0.0182\n",
      "Epoch 6/100\n",
      "94/94 - 0s - 840us/step - loss: 0.0171\n",
      "Epoch 7/100\n",
      "94/94 - 0s - 834us/step - loss: 0.0160\n",
      "Epoch 8/100\n",
      "94/94 - 0s - 827us/step - loss: 0.0150\n",
      "Epoch 9/100\n",
      "94/94 - 0s - 845us/step - loss: 0.0139\n",
      "Epoch 10/100\n",
      "94/94 - 0s - 806us/step - loss: 0.0129\n",
      "Epoch 11/100\n",
      "94/94 - 0s - 827us/step - loss: 0.0119\n",
      "Epoch 12/100\n",
      "94/94 - 0s - 944us/step - loss: 0.0109\n",
      "Epoch 13/100\n",
      "94/94 - 0s - 846us/step - loss: 0.0099\n",
      "Epoch 14/100\n",
      "94/94 - 0s - 806us/step - loss: 0.0089\n",
      "Epoch 15/100\n",
      "94/94 - 0s - 814us/step - loss: 0.0080\n",
      "Epoch 16/100\n",
      "94/94 - 0s - 829us/step - loss: 0.0072\n",
      "Epoch 17/100\n",
      "94/94 - 0s - 822us/step - loss: 0.0064\n",
      "Epoch 18/100\n",
      "94/94 - 0s - 802us/step - loss: 0.0056\n",
      "Epoch 19/100\n",
      "94/94 - 0s - 871us/step - loss: 0.0049\n",
      "Epoch 20/100\n",
      "94/94 - 0s - 813us/step - loss: 0.0044\n",
      "Epoch 21/100\n",
      "94/94 - 0s - 837us/step - loss: 0.0038\n",
      "Epoch 22/100\n",
      "94/94 - 0s - 820us/step - loss: 0.0034\n",
      "Epoch 23/100\n",
      "94/94 - 0s - 816us/step - loss: 0.0031\n",
      "Epoch 24/100\n",
      "94/94 - 0s - 843us/step - loss: 0.0028\n",
      "Epoch 25/100\n",
      "94/94 - 0s - 795us/step - loss: 0.0026\n",
      "Epoch 26/100\n",
      "94/94 - 0s - 830us/step - loss: 0.0024\n",
      "Epoch 27/100\n",
      "94/94 - 0s - 796us/step - loss: 0.0023\n",
      "Epoch 28/100\n",
      "94/94 - 0s - 866us/step - loss: 0.0022\n",
      "Epoch 29/100\n",
      "94/94 - 0s - 826us/step - loss: 0.0021\n",
      "Epoch 30/100\n",
      "94/94 - 0s - 830us/step - loss: 0.0021\n",
      "Epoch 31/100\n",
      "94/94 - 0s - 804us/step - loss: 0.0021\n",
      "Epoch 32/100\n",
      "94/94 - 0s - 851us/step - loss: 0.0021\n",
      "Epoch 33/100\n",
      "94/94 - 0s - 850us/step - loss: 0.0021\n",
      "Epoch 34/100\n",
      "94/94 - 0s - 812us/step - loss: 0.0021\n",
      "Epoch 35/100\n",
      "94/94 - 0s - 832us/step - loss: 0.0021\n",
      "Epoch 36/100\n",
      "94/94 - 0s - 802us/step - loss: 0.0021\n",
      "Epoch 37/100\n",
      "94/94 - 0s - 820us/step - loss: 0.0021\n",
      "Epoch 38/100\n",
      "94/94 - 0s - 800us/step - loss: 0.0021\n",
      "Epoch 39/100\n",
      "94/94 - 0s - 837us/step - loss: 0.0021\n",
      "Epoch 40/100\n",
      "94/94 - 0s - 792us/step - loss: 0.0021\n",
      "Epoch 41/100\n",
      "94/94 - 0s - 864us/step - loss: 0.0021\n",
      "Epoch 42/100\n",
      "94/94 - 0s - 840us/step - loss: 0.0021\n",
      "Epoch 43/100\n",
      "94/94 - 0s - 806us/step - loss: 0.0021\n",
      "Epoch 44/100\n",
      "94/94 - 0s - 820us/step - loss: 0.0021\n",
      "Epoch 45/100\n",
      "94/94 - 0s - 866us/step - loss: 0.0021\n",
      "Epoch 46/100\n",
      "94/94 - 0s - 835us/step - loss: 0.0021\n",
      "Epoch 47/100\n",
      "94/94 - 0s - 829us/step - loss: 0.0021\n",
      "Epoch 48/100\n",
      "94/94 - 0s - 809us/step - loss: 0.0021\n",
      "Epoch 49/100\n",
      "94/94 - 0s - 834us/step - loss: 0.0021\n",
      "Epoch 50/100\n",
      "94/94 - 0s - 805us/step - loss: 0.0021\n",
      "Epoch 51/100\n",
      "94/94 - 0s - 813us/step - loss: 0.0021\n",
      "Epoch 52/100\n",
      "94/94 - 0s - 797us/step - loss: 0.0021\n",
      "Epoch 53/100\n",
      "94/94 - 0s - 897us/step - loss: 0.0021\n",
      "Epoch 54/100\n",
      "94/94 - 0s - 867us/step - loss: 0.0021\n",
      "Epoch 55/100\n",
      "94/94 - 0s - 908us/step - loss: 0.0021\n",
      "Epoch 56/100\n",
      "94/94 - 0s - 891us/step - loss: 0.0021\n",
      "Epoch 57/100\n",
      "94/94 - 0s - 822us/step - loss: 0.0021\n",
      "Epoch 58/100\n",
      "94/94 - 0s - 823us/step - loss: 0.0021\n",
      "Epoch 59/100\n",
      "94/94 - 0s - 803us/step - loss: 0.0021\n",
      "Epoch 60/100\n",
      "94/94 - 0s - 801us/step - loss: 0.0021\n",
      "Epoch 61/100\n",
      "94/94 - 0s - 816us/step - loss: 0.0021\n",
      "Epoch 62/100\n",
      "94/94 - 0s - 845us/step - loss: 0.0021\n",
      "Epoch 63/100\n",
      "94/94 - 0s - 848us/step - loss: 0.0021\n",
      "Epoch 64/100\n",
      "94/94 - 0s - 866us/step - loss: 0.0021\n",
      "Epoch 65/100\n",
      "94/94 - 0s - 805us/step - loss: 0.0021\n",
      "Epoch 66/100\n",
      "94/94 - 0s - 800us/step - loss: 0.0021\n",
      "Epoch 67/100\n",
      "94/94 - 0s - 909us/step - loss: 0.0021\n",
      "Epoch 68/100\n",
      "94/94 - 0s - 854us/step - loss: 0.0021\n",
      "Epoch 69/100\n",
      "94/94 - 0s - 829us/step - loss: 0.0021\n",
      "Epoch 70/100\n",
      "94/94 - 0s - 895us/step - loss: 0.0021\n",
      "Epoch 71/100\n",
      "94/94 - 0s - 836us/step - loss: 0.0021\n",
      "Epoch 72/100\n",
      "94/94 - 0s - 861us/step - loss: 0.0021\n",
      "Epoch 73/100\n",
      "94/94 - 0s - 842us/step - loss: 0.0021\n",
      "Epoch 74/100\n",
      "94/94 - 0s - 868us/step - loss: 0.0021\n",
      "Epoch 75/100\n",
      "94/94 - 0s - 1ms/step - loss: 0.0021\n",
      "Epoch 76/100\n",
      "94/94 - 0s - 867us/step - loss: 0.0021\n",
      "Epoch 77/100\n",
      "94/94 - 0s - 1ms/step - loss: 0.0020\n",
      "Epoch 78/100\n",
      "94/94 - 0s - 865us/step - loss: 0.0020\n",
      "Epoch 79/100\n",
      "94/94 - 0s - 833us/step - loss: 0.0020\n",
      "Epoch 80/100\n",
      "94/94 - 0s - 897us/step - loss: 0.0020\n",
      "Epoch 81/100\n",
      "94/94 - 0s - 853us/step - loss: 0.0020\n",
      "Epoch 82/100\n",
      "94/94 - 0s - 837us/step - loss: 0.0020\n",
      "Epoch 83/100\n",
      "94/94 - 0s - 803us/step - loss: 0.0020\n",
      "Epoch 84/100\n",
      "94/94 - 0s - 849us/step - loss: 0.0020\n",
      "Epoch 85/100\n",
      "94/94 - 0s - 886us/step - loss: 0.0020\n",
      "Epoch 86/100\n",
      "94/94 - 0s - 804us/step - loss: 0.0020\n",
      "Epoch 87/100\n",
      "94/94 - 0s - 819us/step - loss: 0.0020\n",
      "Epoch 88/100\n",
      "94/94 - 0s - 831us/step - loss: 0.0020\n",
      "Epoch 89/100\n",
      "94/94 - 0s - 813us/step - loss: 0.0020\n",
      "Epoch 90/100\n",
      "94/94 - 0s - 832us/step - loss: 0.0020\n",
      "Epoch 91/100\n",
      "94/94 - 0s - 839us/step - loss: 0.0020\n",
      "Epoch 92/100\n",
      "94/94 - 0s - 824us/step - loss: 0.0020\n",
      "Epoch 93/100\n",
      "94/94 - 0s - 809us/step - loss: 0.0020\n",
      "Epoch 94/100\n",
      "94/94 - 0s - 842us/step - loss: 0.0020\n",
      "Epoch 95/100\n",
      "94/94 - 0s - 831us/step - loss: 0.0020\n",
      "Epoch 96/100\n",
      "94/94 - 0s - 830us/step - loss: 0.0020\n",
      "Epoch 97/100\n",
      "94/94 - 0s - 847us/step - loss: 0.0020\n",
      "Epoch 98/100\n",
      "94/94 - 0s - 881us/step - loss: 0.0020\n",
      "Epoch 99/100\n",
      "94/94 - 0s - 796us/step - loss: 0.0020\n",
      "Epoch 100/100\n",
      "94/94 - 0s - 799us/step - loss: 0.0020\n"
     ]
    },
    {
     "data": {
      "text/plain": [
       "<keras.src.callbacks.history.History at 0x7f434c7a99a0>"
      ]
     },
     "execution_count": 29,
     "metadata": {},
     "output_type": "execute_result"
    }
   ],
   "source": [
    "# create and fit the LSTM network\n",
    "model = Sequential()\n",
    "model.add(LSTM(4, input_shape=(1, look_back)))\n",
    "model.add(Dense(1))\n",
    "model.compile(loss='mean_squared_error', optimizer='adam')\n",
    "model.fit(trainX, trainY, epochs=100, batch_size=1, verbose=2)"
   ]
  },
  {
   "cell_type": "code",
   "execution_count": 30,
   "id": "67f79534-d90c-48b8-b697-430cfcdeae80",
   "metadata": {},
   "outputs": [
    {
     "name": "stdout",
     "output_type": "stream",
     "text": [
      "\u001b[1m3/3\u001b[0m \u001b[32m━━━━━━━━━━━━━━━━━━━━\u001b[0m\u001b[37m\u001b[0m \u001b[1m0s\u001b[0m 40ms/step\n",
      "\u001b[1m2/2\u001b[0m \u001b[32m━━━━━━━━━━━━━━━━━━━━\u001b[0m\u001b[37m\u001b[0m \u001b[1m0s\u001b[0m 2ms/step \n",
      "Train Score: 22.89 RMSE\n",
      "Test Score: 48.57 RMSE\n"
     ]
    }
   ],
   "source": [
    "# make predictions\n",
    "trainPredict = model.predict(trainX)\n",
    "testPredict = model.predict(testX)\n",
    "# invert predictions\n",
    "trainPredict = scaler.inverse_transform(trainPredict)\n",
    "trainY = scaler.inverse_transform([trainY])\n",
    "testPredict = scaler.inverse_transform(testPredict)\n",
    "testY = scaler.inverse_transform([testY])\n",
    "# calculate root mean squared error\n",
    "trainScore = np.sqrt(mean_squared_error(trainY[0], trainPredict[:,0]))\n",
    "print('Train Score: %.2f RMSE' % (trainScore))\n",
    "testScore = np.sqrt(mean_squared_error(testY[0], testPredict[:,0]))\n",
    "print('Test Score: %.2f RMSE' % (testScore))"
   ]
  },
  {
   "cell_type": "code",
   "execution_count": 36,
   "id": "8489c381-f9b5-488b-9bba-8000ad960ea6",
   "metadata": {},
   "outputs": [
    {
     "data": {
      "image/png": "[encoded data removed]",
      "text/plain": [
       "<Figure size 640x480 with 1 Axes>"
      ]
     },
     "metadata": {},
     "output_type": "display_data"
    }
   ],
   "source": [
    "# shift train predictions for plotting\n",
    "trainPredictPlot = np.empty_like(dataset)\n",
    "trainPredictPlot[:, :] = np.nan\n",
    "trainPredictPlot[look_back:len(trainPredict)+look_back, :] = trainPredict\n",
    "# shift test predictions for plotting\n",
    "testPredictPlot = np.empty_like(dataset)\n",
    "testPredictPlot[:, :] = np.nan\n",
    "testPredictPlot[len(trainPredict)+(look_back*2)+1:len(dataset)-1, :] = testPredict\n",
    "# plot baseline and predictions\n",
    "plt.plot(scaler.inverse_transform(dataset))\n",
    "plt.plot(trainPredictPlot)\n",
    "plt.plot(testPredictPlot)\n",
    "plt.show()"
   ]
  },
  {
   "cell_type": "code",
   "execution_count": null,
   "id": "cd34e77b-5ab5-475d-b18f-ed021d606c2c",
   "metadata": {},
   "outputs": [],
   "source": []
  }
 ],
 "metadata": {
  "kernelspec": {
   "display_name": "Python 3 (ipykernel)",
   "language": "python",
   "name": "python3"
  },
  "language_info": {
   "codemirror_mode": {
    "name": "ipython",
    "version": 3
   },
   "file_extension": ".py",
   "mimetype": "text/x-python",
   "name": "python",
   "nbconvert_exporter": "python",
   "pygments_lexer": "ipython3",
   "version": "3.12.7"
  }
 },
 "nbformat": 4,
 "nbformat_minor": 5
}
